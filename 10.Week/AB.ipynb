{
 "cells": [
  {
   "cell_type": "markdown",
   "metadata": {},
   "source": [
    "# CASE STUDY"
   ]
  },
  {
   "cell_type": "markdown",
   "metadata": {},
   "source": [
    "A company recently introduced a new bidding type, “average bidding”, as an alternative to its exisiting bidding\n",
    "type, called “maximum bidding”. One of our clients, has decided to test this new feature\n",
    "and wants to conduct an A/B test to understand if average bidding brings more conversions than maximum\n",
    "bidding.\n",
    "In this A/B test, our client randomly splits its audience into two equally sized groups, e.g. the test\n",
    "and the control group. This company ad campaign with “maximum bidding” is served to “control group” and\n",
    "another campaign with “average bidding” is served to the “test group”.\n",
    "The A/B test has run for 1 month and our client now expects you to analyze and present the results\n",
    "of this A/B test.\n",
    "You should answer the following questions in your presentation:\n",
    "1. How would you define the hypothesis of this A/B test?\n",
    "2. Can we conclude statistically significant results?\n",
    "3. Which statistical test did you use, and why?\n",
    "4. Based on your answer to Question 2, what would be your recommendation to client?\n",
    "Hints:\n",
    "1. Your presentation should last about 15 minutes, and should be presented in English.\n",
    "2. The ultimate success metric for our client is Number of Purchases. Therefore, you should focus\n",
    "on Purchase metrics for statistical testing.\n",
    "3. Explain the concept of statistical testing for a non-technical audience.\n",
    "4. The customer journey for this campaign is:\n",
    "1. User sees an ad (Impression)\n",
    "2. User clicks on the website link on the ad (Website Click)\n",
    "3. User makes a search on the website (Search)\n",
    "4. User views details of a product (View Content)\n",
    "5. User adds the product to the cart (Add to Cart)\n",
    "6. User purchases the product (Purchase)\n",
    "5. Use visualizations to compare test and control group metrics, such as Website Click Through Rate, Cost\n",
    "per Action, and Conversion Rates in addition to Purchase numbers.\n",
    "6. If you see trends, anomalies or other patterns, discuss these in your presentation.\n",
    "7. You can make assumptions if needed."
   ]
  },
  {
   "cell_type": "markdown",
   "metadata": {},
   "source": [
    "# Appendix"
   ]
  },
  {
   "cell_type": "markdown",
   "metadata": {},
   "source": [
    "- Impressions: The number of times an ad is displayed.\n",
    "- Reach: The number of unique people who saw an ad.\n",
    "- Website Clicks: The number of clicks on ad links directed to Advertiser’s website.\n",
    "- Website Click Through Rate: Number of Website Clicks / Number of Impressions x 100\n",
    "- Cost per Action: Spend / Number of Actions\n",
    "- Action: Can be any conversion event, such as Search, View Content, Add to Cart and Purchase.\n",
    "- Conversion Rate: Number of Actions / Number of Website Clicks x 100"
   ]
  },
  {
   "cell_type": "markdown",
   "metadata": {},
   "source": [
    "# A/B TEST"
   ]
  },
  {
   "cell_type": "code",
   "execution_count": 71,
   "metadata": {},
   "outputs": [],
   "source": [
    "import pandas as pd\n",
    "import numpy as np\n",
    "import matplotlib.pyplot as plt\n",
    "import warnings\n",
    "warnings.filterwarnings('ignore')"
   ]
  },
  {
   "cell_type": "code",
   "execution_count": 72,
   "metadata": {},
   "outputs": [],
   "source": [
    "control_grup = pd.read_excel(\"Data_Science_Case_Study.xlsx\" ,sheet_name = \"Control Group\")"
   ]
  },
  {
   "cell_type": "code",
   "execution_count": 73,
   "metadata": {},
   "outputs": [],
   "source": [
    "test_grup = pd.read_excel(\"Data_Science_Case_Study.xlsx\" ,sheet_name = \"Test Group\")"
   ]
  },
  {
   "cell_type": "code",
   "execution_count": 74,
   "metadata": {},
   "outputs": [
    {
     "data": {
      "text/plain": [
       "Campaign Name          1\n",
       "Date                   2\n",
       "Spend [USD]            2\n",
       "# of Impressions       3\n",
       "Reach                  3\n",
       "# of Website Clicks    3\n",
       "# of Searches          3\n",
       "# of View Content      3\n",
       "# of Add to Cart       3\n",
       "# of Purchase          3\n",
       "dtype: int64"
      ]
     },
     "execution_count": 74,
     "metadata": {},
     "output_type": "execute_result"
    }
   ],
   "source": [
    "control_grup.isnull().sum()"
   ]
  },
  {
   "cell_type": "code",
   "execution_count": 75,
   "metadata": {},
   "outputs": [
    {
     "data": {
      "text/plain": [
       "(32, 10)"
      ]
     },
     "execution_count": 75,
     "metadata": {},
     "output_type": "execute_result"
    }
   ],
   "source": [
    "control_grup.shape"
   ]
  },
  {
   "cell_type": "code",
   "execution_count": 76,
   "metadata": {},
   "outputs": [
    {
     "data": {
      "text/plain": [
       "(30, 10)"
      ]
     },
     "execution_count": 76,
     "metadata": {},
     "output_type": "execute_result"
    }
   ],
   "source": [
    "test_grup.shape"
   ]
  },
  {
   "cell_type": "code",
   "execution_count": 77,
   "metadata": {},
   "outputs": [
    {
     "data": {
      "text/html": [
       "<div>\n",
       "<style scoped>\n",
       "    .dataframe tbody tr th:only-of-type {\n",
       "        vertical-align: middle;\n",
       "    }\n",
       "\n",
       "    .dataframe tbody tr th {\n",
       "        vertical-align: top;\n",
       "    }\n",
       "\n",
       "    .dataframe thead th {\n",
       "        text-align: right;\n",
       "    }\n",
       "</style>\n",
       "<table border=\"1\" class=\"dataframe\">\n",
       "  <thead>\n",
       "    <tr style=\"text-align: right;\">\n",
       "      <th></th>\n",
       "      <th>Campaign Name</th>\n",
       "      <th>Date</th>\n",
       "      <th>Spend [USD]</th>\n",
       "      <th># of Impressions</th>\n",
       "      <th>Reach</th>\n",
       "      <th># of Website Clicks</th>\n",
       "      <th># of Searches</th>\n",
       "      <th># of View Content</th>\n",
       "      <th># of Add to Cart</th>\n",
       "      <th># of Purchase</th>\n",
       "    </tr>\n",
       "  </thead>\n",
       "  <tbody>\n",
       "    <tr>\n",
       "      <td>27</td>\n",
       "      <td>Control Campaign</td>\n",
       "      <td>2017.01.28</td>\n",
       "      <td>2086.509198</td>\n",
       "      <td>126709.0</td>\n",
       "      <td>83340.0</td>\n",
       "      <td>4381.0</td>\n",
       "      <td>1887.0</td>\n",
       "      <td>1375.0</td>\n",
       "      <td>674.0</td>\n",
       "      <td>400.0</td>\n",
       "    </tr>\n",
       "    <tr>\n",
       "      <td>28</td>\n",
       "      <td>Control Campaign</td>\n",
       "      <td>2017.01.29</td>\n",
       "      <td>2408.154192</td>\n",
       "      <td>68766.0</td>\n",
       "      <td>49422.0</td>\n",
       "      <td>2244.0</td>\n",
       "      <td>931.0</td>\n",
       "      <td>500.0</td>\n",
       "      <td>303.0</td>\n",
       "      <td>217.0</td>\n",
       "    </tr>\n",
       "    <tr>\n",
       "      <td>29</td>\n",
       "      <td>Control Campaign</td>\n",
       "      <td>2017.01.30</td>\n",
       "      <td>2474.257098</td>\n",
       "      <td>100769.0</td>\n",
       "      <td>83923.0</td>\n",
       "      <td>3104.0</td>\n",
       "      <td>1199.0</td>\n",
       "      <td>813.0</td>\n",
       "      <td>508.0</td>\n",
       "      <td>246.0</td>\n",
       "    </tr>\n",
       "    <tr>\n",
       "      <td>30</td>\n",
       "      <td>NaN</td>\n",
       "      <td>NaN</td>\n",
       "      <td>NaN</td>\n",
       "      <td>NaN</td>\n",
       "      <td>NaN</td>\n",
       "      <td>NaN</td>\n",
       "      <td>NaN</td>\n",
       "      <td>NaN</td>\n",
       "      <td>NaN</td>\n",
       "      <td>NaN</td>\n",
       "    </tr>\n",
       "    <tr>\n",
       "      <td>31</td>\n",
       "      <td>NA: Data not available</td>\n",
       "      <td>NaN</td>\n",
       "      <td>NaN</td>\n",
       "      <td>NaN</td>\n",
       "      <td>NaN</td>\n",
       "      <td>NaN</td>\n",
       "      <td>NaN</td>\n",
       "      <td>NaN</td>\n",
       "      <td>NaN</td>\n",
       "      <td>NaN</td>\n",
       "    </tr>\n",
       "  </tbody>\n",
       "</table>\n",
       "</div>"
      ],
      "text/plain": [
       "             Campaign Name        Date  Spend [USD]  # of Impressions  \\\n",
       "27        Control Campaign  2017.01.28  2086.509198          126709.0   \n",
       "28        Control Campaign  2017.01.29  2408.154192           68766.0   \n",
       "29        Control Campaign  2017.01.30  2474.257098          100769.0   \n",
       "30                     NaN         NaN          NaN               NaN   \n",
       "31  NA: Data not available         NaN          NaN               NaN   \n",
       "\n",
       "      Reach  # of Website Clicks  # of Searches  # of View Content  \\\n",
       "27  83340.0               4381.0         1887.0             1375.0   \n",
       "28  49422.0               2244.0          931.0              500.0   \n",
       "29  83923.0               3104.0         1199.0              813.0   \n",
       "30      NaN                  NaN            NaN                NaN   \n",
       "31      NaN                  NaN            NaN                NaN   \n",
       "\n",
       "    # of Add to Cart  # of Purchase  \n",
       "27             674.0          400.0  \n",
       "28             303.0          217.0  \n",
       "29             508.0          246.0  \n",
       "30               NaN            NaN  \n",
       "31               NaN            NaN  "
      ]
     },
     "execution_count": 77,
     "metadata": {},
     "output_type": "execute_result"
    }
   ],
   "source": [
    "control_grup.tail()"
   ]
  },
  {
   "cell_type": "code",
   "execution_count": 78,
   "metadata": {},
   "outputs": [],
   "source": [
    "control_grup.drop(index =[30,31],inplace = True)"
   ]
  },
  {
   "cell_type": "code",
   "execution_count": 79,
   "metadata": {},
   "outputs": [
    {
     "data": {
      "text/plain": [
       "(30, 10)"
      ]
     },
     "execution_count": 79,
     "metadata": {},
     "output_type": "execute_result"
    }
   ],
   "source": [
    "control_grup.shape"
   ]
  },
  {
   "cell_type": "code",
   "execution_count": 80,
   "metadata": {},
   "outputs": [
    {
     "data": {
      "text/plain": [
       "Campaign Name          0\n",
       "Date                   0\n",
       "Spend [USD]            0\n",
       "# of Impressions       1\n",
       "Reach                  1\n",
       "# of Website Clicks    1\n",
       "# of Searches          1\n",
       "# of View Content      1\n",
       "# of Add to Cart       1\n",
       "# of Purchase          1\n",
       "dtype: int64"
      ]
     },
     "execution_count": 80,
     "metadata": {},
     "output_type": "execute_result"
    }
   ],
   "source": [
    "control_grup.isnull().sum()"
   ]
  },
  {
   "cell_type": "code",
   "execution_count": 81,
   "metadata": {},
   "outputs": [],
   "source": [
    "control_grup.fillna(control_grup.mean(),inplace = True)"
   ]
  },
  {
   "cell_type": "code",
   "execution_count": 82,
   "metadata": {},
   "outputs": [
    {
     "data": {
      "text/plain": [
       "Campaign Name          0\n",
       "Date                   0\n",
       "Spend [USD]            0\n",
       "# of Impressions       0\n",
       "Reach                  0\n",
       "# of Website Clicks    0\n",
       "# of Searches          0\n",
       "# of View Content      0\n",
       "# of Add to Cart       0\n",
       "# of Purchase          0\n",
       "dtype: int64"
      ]
     },
     "execution_count": 82,
     "metadata": {},
     "output_type": "execute_result"
    }
   ],
   "source": [
    "control_grup.isnull().sum()"
   ]
  },
  {
   "cell_type": "code",
   "execution_count": 83,
   "metadata": {},
   "outputs": [
    {
     "data": {
      "text/plain": [
       "# of Impressions       int32\n",
       "Reach                  int32\n",
       "# of Website Clicks    int32\n",
       "# of Searches          int32\n",
       "# of View Content      int32\n",
       "# of Add to Cart       int32\n",
       "# of Purchase          int32\n",
       "dtype: object"
      ]
     },
     "execution_count": 83,
     "metadata": {},
     "output_type": "execute_result"
    }
   ],
   "source": [
    "control_grup.iloc[:,3:10].astype(int).dtypes"
   ]
  },
  {
   "cell_type": "code",
   "execution_count": 84,
   "metadata": {},
   "outputs": [
    {
     "data": {
      "text/html": [
       "<div>\n",
       "<style scoped>\n",
       "    .dataframe tbody tr th:only-of-type {\n",
       "        vertical-align: middle;\n",
       "    }\n",
       "\n",
       "    .dataframe tbody tr th {\n",
       "        vertical-align: top;\n",
       "    }\n",
       "\n",
       "    .dataframe thead th {\n",
       "        text-align: right;\n",
       "    }\n",
       "</style>\n",
       "<table border=\"1\" class=\"dataframe\">\n",
       "  <thead>\n",
       "    <tr style=\"text-align: right;\">\n",
       "      <th></th>\n",
       "      <th>Campaign Name</th>\n",
       "      <th>Date</th>\n",
       "      <th>Spend [USD]</th>\n",
       "      <th># of Impressions</th>\n",
       "      <th>Reach</th>\n",
       "      <th># of Website Clicks</th>\n",
       "      <th># of Searches</th>\n",
       "      <th># of View Content</th>\n",
       "      <th># of Add to Cart</th>\n",
       "      <th># of Purchase</th>\n",
       "    </tr>\n",
       "  </thead>\n",
       "  <tbody>\n",
       "    <tr>\n",
       "      <td>0</td>\n",
       "      <td>Control Campaign</td>\n",
       "      <td>2017.01.01</td>\n",
       "      <td>2436.124529</td>\n",
       "      <td>90572.0</td>\n",
       "      <td>75440.0</td>\n",
       "      <td>4150.0</td>\n",
       "      <td>1657.0</td>\n",
       "      <td>1541.0</td>\n",
       "      <td>566.0</td>\n",
       "      <td>383.0</td>\n",
       "    </tr>\n",
       "    <tr>\n",
       "      <td>1</td>\n",
       "      <td>Control Campaign</td>\n",
       "      <td>2017.01.02</td>\n",
       "      <td>2621.043006</td>\n",
       "      <td>129612.0</td>\n",
       "      <td>95667.0</td>\n",
       "      <td>6387.0</td>\n",
       "      <td>2265.0</td>\n",
       "      <td>1563.0</td>\n",
       "      <td>1577.0</td>\n",
       "      <td>644.0</td>\n",
       "    </tr>\n",
       "    <tr>\n",
       "      <td>2</td>\n",
       "      <td>Control Campaign</td>\n",
       "      <td>2017.01.03</td>\n",
       "      <td>2427.021083</td>\n",
       "      <td>132803.0</td>\n",
       "      <td>121762.0</td>\n",
       "      <td>6887.0</td>\n",
       "      <td>3100.0</td>\n",
       "      <td>2048.0</td>\n",
       "      <td>1381.0</td>\n",
       "      <td>639.0</td>\n",
       "    </tr>\n",
       "    <tr>\n",
       "      <td>3</td>\n",
       "      <td>Control Campaign</td>\n",
       "      <td>2017.01.04</td>\n",
       "      <td>2565.414978</td>\n",
       "      <td>120570.0</td>\n",
       "      <td>104011.0</td>\n",
       "      <td>6478.0</td>\n",
       "      <td>2579.0</td>\n",
       "      <td>2083.0</td>\n",
       "      <td>1650.0</td>\n",
       "      <td>649.0</td>\n",
       "    </tr>\n",
       "    <tr>\n",
       "      <td>4</td>\n",
       "      <td>Control Campaign</td>\n",
       "      <td>2017.01.05</td>\n",
       "      <td>2648.683326</td>\n",
       "      <td>95822.0</td>\n",
       "      <td>69059.0</td>\n",
       "      <td>4532.0</td>\n",
       "      <td>1823.0</td>\n",
       "      <td>1220.0</td>\n",
       "      <td>940.0</td>\n",
       "      <td>455.0</td>\n",
       "    </tr>\n",
       "  </tbody>\n",
       "</table>\n",
       "</div>"
      ],
      "text/plain": [
       "      Campaign Name        Date  Spend [USD]  # of Impressions     Reach  \\\n",
       "0  Control Campaign  2017.01.01  2436.124529           90572.0   75440.0   \n",
       "1  Control Campaign  2017.01.02  2621.043006          129612.0   95667.0   \n",
       "2  Control Campaign  2017.01.03  2427.021083          132803.0  121762.0   \n",
       "3  Control Campaign  2017.01.04  2565.414978          120570.0  104011.0   \n",
       "4  Control Campaign  2017.01.05  2648.683326           95822.0   69059.0   \n",
       "\n",
       "   # of Website Clicks  # of Searches  # of View Content  # of Add to Cart  \\\n",
       "0               4150.0         1657.0             1541.0             566.0   \n",
       "1               6387.0         2265.0             1563.0            1577.0   \n",
       "2               6887.0         3100.0             2048.0            1381.0   \n",
       "3               6478.0         2579.0             2083.0            1650.0   \n",
       "4               4532.0         1823.0             1220.0             940.0   \n",
       "\n",
       "   # of Purchase  \n",
       "0          383.0  \n",
       "1          644.0  \n",
       "2          639.0  \n",
       "3          649.0  \n",
       "4          455.0  "
      ]
     },
     "execution_count": 84,
     "metadata": {},
     "output_type": "execute_result"
    }
   ],
   "source": [
    "control_grup.head()"
   ]
  },
  {
   "cell_type": "code",
   "execution_count": 85,
   "metadata": {},
   "outputs": [
    {
     "data": {
      "text/html": [
       "<div>\n",
       "<style scoped>\n",
       "    .dataframe tbody tr th:only-of-type {\n",
       "        vertical-align: middle;\n",
       "    }\n",
       "\n",
       "    .dataframe tbody tr th {\n",
       "        vertical-align: top;\n",
       "    }\n",
       "\n",
       "    .dataframe thead th {\n",
       "        text-align: right;\n",
       "    }\n",
       "</style>\n",
       "<table border=\"1\" class=\"dataframe\">\n",
       "  <thead>\n",
       "    <tr style=\"text-align: right;\">\n",
       "      <th></th>\n",
       "      <th>Campaign Name</th>\n",
       "      <th>Date</th>\n",
       "      <th>Spend [USD]</th>\n",
       "      <th># of Impressions</th>\n",
       "      <th>Reach</th>\n",
       "      <th># of Website Clicks</th>\n",
       "      <th># of Searches</th>\n",
       "      <th># of View Content</th>\n",
       "      <th># of Add to Cart</th>\n",
       "      <th># of Purchase</th>\n",
       "    </tr>\n",
       "  </thead>\n",
       "  <tbody>\n",
       "    <tr>\n",
       "      <td>0</td>\n",
       "      <td>Test Campaign</td>\n",
       "      <td>2017.01.01</td>\n",
       "      <td>2335.586267</td>\n",
       "      <td>160244</td>\n",
       "      <td>121551</td>\n",
       "      <td>8223</td>\n",
       "      <td>2989</td>\n",
       "      <td>2949</td>\n",
       "      <td>1371</td>\n",
       "      <td>913</td>\n",
       "    </tr>\n",
       "    <tr>\n",
       "      <td>1</td>\n",
       "      <td>Test Campaign</td>\n",
       "      <td>2017.01.02</td>\n",
       "      <td>2899.490621</td>\n",
       "      <td>100793</td>\n",
       "      <td>68241</td>\n",
       "      <td>4972</td>\n",
       "      <td>2162</td>\n",
       "      <td>1388</td>\n",
       "      <td>1253</td>\n",
       "      <td>510</td>\n",
       "    </tr>\n",
       "    <tr>\n",
       "      <td>2</td>\n",
       "      <td>Test Campaign</td>\n",
       "      <td>2017.01.03</td>\n",
       "      <td>3031.740149</td>\n",
       "      <td>89525</td>\n",
       "      <td>83450</td>\n",
       "      <td>3514</td>\n",
       "      <td>1365</td>\n",
       "      <td>1251</td>\n",
       "      <td>995</td>\n",
       "      <td>391</td>\n",
       "    </tr>\n",
       "    <tr>\n",
       "      <td>3</td>\n",
       "      <td>Test Campaign</td>\n",
       "      <td>2017.01.04</td>\n",
       "      <td>2794.847648</td>\n",
       "      <td>110122</td>\n",
       "      <td>89985</td>\n",
       "      <td>4411</td>\n",
       "      <td>1533</td>\n",
       "      <td>1134</td>\n",
       "      <td>951</td>\n",
       "      <td>434</td>\n",
       "    </tr>\n",
       "    <tr>\n",
       "      <td>4</td>\n",
       "      <td>Test Campaign</td>\n",
       "      <td>2017.01.05</td>\n",
       "      <td>2201.845423</td>\n",
       "      <td>122204</td>\n",
       "      <td>84000</td>\n",
       "      <td>5165</td>\n",
       "      <td>1582</td>\n",
       "      <td>1007</td>\n",
       "      <td>810</td>\n",
       "      <td>492</td>\n",
       "    </tr>\n",
       "  </tbody>\n",
       "</table>\n",
       "</div>"
      ],
      "text/plain": [
       "   Campaign Name        Date  Spend [USD]  # of Impressions   Reach  \\\n",
       "0  Test Campaign  2017.01.01  2335.586267            160244  121551   \n",
       "1  Test Campaign  2017.01.02  2899.490621            100793   68241   \n",
       "2  Test Campaign  2017.01.03  3031.740149             89525   83450   \n",
       "3  Test Campaign  2017.01.04  2794.847648            110122   89985   \n",
       "4  Test Campaign  2017.01.05  2201.845423            122204   84000   \n",
       "\n",
       "   # of Website Clicks  # of Searches  # of View Content  # of Add to Cart  \\\n",
       "0                 8223           2989               2949              1371   \n",
       "1                 4972           2162               1388              1253   \n",
       "2                 3514           1365               1251               995   \n",
       "3                 4411           1533               1134               951   \n",
       "4                 5165           1582               1007               810   \n",
       "\n",
       "   # of Purchase  \n",
       "0            913  \n",
       "1            510  \n",
       "2            391  \n",
       "3            434  \n",
       "4            492  "
      ]
     },
     "execution_count": 85,
     "metadata": {},
     "output_type": "execute_result"
    }
   ],
   "source": [
    "test_grup.head()"
   ]
  },
  {
   "cell_type": "code",
   "execution_count": 86,
   "metadata": {},
   "outputs": [
    {
     "data": {
      "image/png": "[encoded data removed]",
      "text/plain": [
       "<Figure size 432x288 with 2 Axes>"
      ]
     },
     "metadata": {
      "needs_background": "light"
     },
     "output_type": "display_data"
    }
   ],
   "source": [
    "plt.title(\"Website Click Comparison\")\n",
    "plt.subplot(1, 2, 1)\n",
    "plt.title(\"Control\")\n",
    "control_grup[\"# of Website Clicks\"].plot.hist(color = \"red\")\n",
    "plt.subplot(1, 2, 2)\n",
    "plt.title(\"Test\")\n",
    "test_grup[\"# of Website Clicks\"].plot.hist(color = \"blue\")\n",
    "plt.show()"
   ]
  },
  {
   "cell_type": "code",
   "execution_count": 87,
   "metadata": {},
   "outputs": [
    {
     "data": {
      "text/plain": [
       "Spend [USD]              2571.426085\n",
       "# of Impressions       110497.300000\n",
       "Reach                   88826.833333\n",
       "# of Website Clicks      4863.866667\n",
       "# of Searches            1862.433333\n",
       "# of View Content        1457.600000\n",
       "# of Add to Cart          885.333333\n",
       "# of Purchase             486.066667\n",
       "dtype: float64"
      ]
     },
     "execution_count": 87,
     "metadata": {},
     "output_type": "execute_result"
    }
   ],
   "source": [
    "test_grup.mean()"
   ]
  },
  {
   "cell_type": "code",
   "execution_count": 88,
   "metadata": {},
   "outputs": [
    {
     "data": {
      "text/plain": [
       "Spend [USD]              2481.788026\n",
       "# of Impressions       114608.827586\n",
       "Reach                   87628.482759\n",
       "# of Website Clicks      5150.896552\n",
       "# of Searches            2016.758621\n",
       "# of View Content        1546.310345\n",
       "# of Add to Cart         1061.862069\n",
       "# of Purchase             507.379310\n",
       "dtype: float64"
      ]
     },
     "execution_count": 88,
     "metadata": {},
     "output_type": "execute_result"
    }
   ],
   "source": [
    "control_grup.mean()"
   ]
  },
  {
   "cell_type": "markdown",
   "metadata": {},
   "source": [
    "col = control.columns\n",
    "from sklearn.impute import KNNImputer\n",
    "imputer = KNNImputer(n_neighbors=6)\n",
    "control_ = imputer.fit_transform(control)"
   ]
  },
  {
   "cell_type": "markdown",
   "metadata": {},
   "source": [
    "control_pd = pd.DataFrame(control_, columns = col)"
   ]
  },
  {
   "cell_type": "code",
   "execution_count": 89,
   "metadata": {},
   "outputs": [],
   "source": [
    "control_last =control_grup[\"# of Purchase\"].astype(int)"
   ]
  },
  {
   "cell_type": "code",
   "execution_count": 90,
   "metadata": {},
   "outputs": [],
   "source": [
    "test_gr = test_grup[\"# of Purchase\"]"
   ]
  },
  {
   "cell_type": "code",
   "execution_count": 91,
   "metadata": {},
   "outputs": [
    {
     "data": {
      "text/plain": [
       "0    383\n",
       "1    644\n",
       "2    639\n",
       "3    649\n",
       "4    455\n",
       "Name: # of Purchase, dtype: int32"
      ]
     },
     "execution_count": 91,
     "metadata": {},
     "output_type": "execute_result"
    }
   ],
   "source": [
    "control_last.head()"
   ]
  },
  {
   "cell_type": "code",
   "execution_count": 92,
   "metadata": {},
   "outputs": [
    {
     "data": {
      "text/plain": [
       "0    913\n",
       "1    510\n",
       "2    391\n",
       "3    434\n",
       "4    492\n",
       "Name: # of Purchase, dtype: int64"
      ]
     },
     "execution_count": 92,
     "metadata": {},
     "output_type": "execute_result"
    }
   ],
   "source": [
    "test_gr.head()"
   ]
  },
  {
   "cell_type": "code",
   "execution_count": 93,
   "metadata": {},
   "outputs": [],
   "source": [
    "df = pd.DataFrame({\"control\":control_last,\n",
    "                   \"test\":test_gr})"
   ]
  },
  {
   "cell_type": "code",
   "execution_count": 94,
   "metadata": {},
   "outputs": [
    {
     "data": {
      "text/html": [
       "<div>\n",
       "<style scoped>\n",
       "    .dataframe tbody tr th:only-of-type {\n",
       "        vertical-align: middle;\n",
       "    }\n",
       "\n",
       "    .dataframe tbody tr th {\n",
       "        vertical-align: top;\n",
       "    }\n",
       "\n",
       "    .dataframe thead th {\n",
       "        text-align: right;\n",
       "    }\n",
       "</style>\n",
       "<table border=\"1\" class=\"dataframe\">\n",
       "  <thead>\n",
       "    <tr style=\"text-align: right;\">\n",
       "      <th></th>\n",
       "      <th>control</th>\n",
       "      <th>test</th>\n",
       "    </tr>\n",
       "  </thead>\n",
       "  <tbody>\n",
       "    <tr>\n",
       "      <td>0</td>\n",
       "      <td>383</td>\n",
       "      <td>913</td>\n",
       "    </tr>\n",
       "    <tr>\n",
       "      <td>1</td>\n",
       "      <td>644</td>\n",
       "      <td>510</td>\n",
       "    </tr>\n",
       "    <tr>\n",
       "      <td>2</td>\n",
       "      <td>639</td>\n",
       "      <td>391</td>\n",
       "    </tr>\n",
       "    <tr>\n",
       "      <td>3</td>\n",
       "      <td>649</td>\n",
       "      <td>434</td>\n",
       "    </tr>\n",
       "    <tr>\n",
       "      <td>4</td>\n",
       "      <td>455</td>\n",
       "      <td>492</td>\n",
       "    </tr>\n",
       "  </tbody>\n",
       "</table>\n",
       "</div>"
      ],
      "text/plain": [
       "   control  test\n",
       "0      383   913\n",
       "1      644   510\n",
       "2      639   391\n",
       "3      649   434\n",
       "4      455   492"
      ]
     },
     "execution_count": 94,
     "metadata": {},
     "output_type": "execute_result"
    }
   ],
   "source": [
    "df.head()"
   ]
  },
  {
   "cell_type": "code",
   "execution_count": 95,
   "metadata": {},
   "outputs": [],
   "source": [
    "import scipy.stats as stats\n",
    "import pylab"
   ]
  },
  {
   "cell_type": "markdown",
   "metadata": {},
   "source": [
    "## Distribution for Control "
   ]
  },
  {
   "cell_type": "code",
   "execution_count": 96,
   "metadata": {},
   "outputs": [
    {
     "data": {
      "image/png": "[encoded data removed]",
      "text/plain": [
       "<Figure size 432x288 with 1 Axes>"
      ]
     },
     "metadata": {
      "needs_background": "light"
     },
     "output_type": "display_data"
    }
   ],
   "source": [
    "stats.probplot(df[\"control\"], dist=\"norm\", plot=pylab)\n",
    "pylab.show()"
   ]
  },
  {
   "cell_type": "code",
   "execution_count": 97,
   "metadata": {},
   "outputs": [
    {
     "data": {
      "image/png": "[encoded data removed]",
      "text/plain": [
       "<Figure size 432x288 with 1 Axes>"
      ]
     },
     "metadata": {
      "needs_background": "light"
     },
     "output_type": "display_data"
    }
   ],
   "source": [
    "df[\"control\"].plot.hist(color = \"red\");"
   ]
  },
  {
   "cell_type": "markdown",
   "metadata": {},
   "source": [
    "## For Test"
   ]
  },
  {
   "cell_type": "code",
   "execution_count": 98,
   "metadata": {},
   "outputs": [
    {
     "data": {
      "image/png": "[encoded data removed]",
      "text/plain": [
       "<Figure size 432x288 with 1 Axes>"
      ]
     },
     "metadata": {
      "needs_background": "light"
     },
     "output_type": "display_data"
    }
   ],
   "source": [
    "stats.probplot(df[\"test\"], dist=\"norm\", plot=pylab)\n",
    "pylab.show()"
   ]
  },
  {
   "cell_type": "code",
   "execution_count": 99,
   "metadata": {},
   "outputs": [
    {
     "data": {
      "image/png": "[encoded data removed]",
      "text/plain": [
       "<Figure size 432x288 with 1 Axes>"
      ]
     },
     "metadata": {
      "needs_background": "light"
     },
     "output_type": "display_data"
    }
   ],
   "source": [
    "df[\"test\"].plot.hist(color = \"green\");"
   ]
  },
  {
   "cell_type": "markdown",
   "metadata": {},
   "source": [
    "for i in [\"control\",\"test\"]:\n",
    "    Q1 = df[i].quantile(0.25)\n",
    "    Q3 = df[i].quantile(0.75)\n",
    "    IQR = Q3-Q1\n",
    "    upper = Q3 + 1.5*IQR\n",
    "    lower = Q1 - 1.5*IQR\n",
    "\n",
    "    if df[(df[i] > upper) | (df[i] < lower)].any(axis=None):\n",
    "        print(i,\"yes\")\n",
    "        print(df[(df[i] > upper) | (df[i] < lower)].shape[0])\n",
    "    else:\n",
    "        print(i, \"no\")"
   ]
  },
  {
   "cell_type": "markdown",
   "metadata": {},
   "source": [
    "Q1 = df[\"test\"].quantile(0.25)\n",
    "Q3 = df[\"test\"].quantile(0.75)\n",
    "IQR = Q3-Q1\n",
    "upper = Q3 + 1.5*IQR\n",
    "df[df[\"test\"] > upper] = upper"
   ]
  },
  {
   "cell_type": "code",
   "execution_count": 100,
   "metadata": {},
   "outputs": [
    {
     "data": {
      "text/html": [
       "<div>\n",
       "<style scoped>\n",
       "    .dataframe tbody tr th:only-of-type {\n",
       "        vertical-align: middle;\n",
       "    }\n",
       "\n",
       "    .dataframe tbody tr th {\n",
       "        vertical-align: top;\n",
       "    }\n",
       "\n",
       "    .dataframe thead th {\n",
       "        text-align: right;\n",
       "    }\n",
       "</style>\n",
       "<table border=\"1\" class=\"dataframe\">\n",
       "  <thead>\n",
       "    <tr style=\"text-align: right;\">\n",
       "      <th></th>\n",
       "      <th>control</th>\n",
       "      <th>test</th>\n",
       "    </tr>\n",
       "  </thead>\n",
       "  <tbody>\n",
       "    <tr>\n",
       "      <td>0</td>\n",
       "      <td>383</td>\n",
       "      <td>913</td>\n",
       "    </tr>\n",
       "    <tr>\n",
       "      <td>1</td>\n",
       "      <td>644</td>\n",
       "      <td>510</td>\n",
       "    </tr>\n",
       "    <tr>\n",
       "      <td>2</td>\n",
       "      <td>639</td>\n",
       "      <td>391</td>\n",
       "    </tr>\n",
       "    <tr>\n",
       "      <td>3</td>\n",
       "      <td>649</td>\n",
       "      <td>434</td>\n",
       "    </tr>\n",
       "    <tr>\n",
       "      <td>4</td>\n",
       "      <td>455</td>\n",
       "      <td>492</td>\n",
       "    </tr>\n",
       "  </tbody>\n",
       "</table>\n",
       "</div>"
      ],
      "text/plain": [
       "   control  test\n",
       "0      383   913\n",
       "1      644   510\n",
       "2      639   391\n",
       "3      649   434\n",
       "4      455   492"
      ]
     },
     "execution_count": 100,
     "metadata": {},
     "output_type": "execute_result"
    }
   ],
   "source": [
    "df.head()"
   ]
  },
  {
   "cell_type": "markdown",
   "metadata": {},
   "source": [
    "## Determination of Hypothesis\n",
    "\n",
    "H0 = avarage bidding = maximum bidding\n",
    "\n",
    "H1 = is not equal"
   ]
  },
  {
   "cell_type": "markdown",
   "metadata": {},
   "source": [
    "## Normality Assumption\n"
   ]
  },
  {
   "cell_type": "code",
   "execution_count": 101,
   "metadata": {},
   "outputs": [],
   "source": [
    "from scipy.stats import shapiro"
   ]
  },
  {
   "cell_type": "code",
   "execution_count": 102,
   "metadata": {},
   "outputs": [
    {
     "name": "stdout",
     "output_type": "stream",
     "text": [
      "Statistic = 0.98821, p-value = 0.97879\n"
     ]
    }
   ],
   "source": [
    "statistic, pvalue = shapiro(df.control)\n",
    "print('Statistic = %.5f, p-value = %.5f' % (statistic, pvalue))"
   ]
  },
  {
   "cell_type": "markdown",
   "metadata": {},
   "source": [
    "p value > 0.05 h0 is not rejected for the control campaign\n"
   ]
  },
  {
   "cell_type": "code",
   "execution_count": 103,
   "metadata": {},
   "outputs": [
    {
     "name": "stdout",
     "output_type": "stream",
     "text": [
      "Statistic = 0.91887, p-value = 0.02507\n"
     ]
    }
   ],
   "source": [
    "statistic, pvalue = shapiro(df.test)\n",
    "print('Statistic = %.5f, p-value = %.5f' % (statistic, pvalue))"
   ]
  },
  {
   "cell_type": "code",
   "execution_count": 104,
   "metadata": {},
   "outputs": [
    {
     "data": {
      "text/plain": [
       "True"
      ]
     },
     "execution_count": 104,
     "metadata": {},
     "output_type": "execute_result"
    }
   ],
   "source": [
    "0.02507 < 0.05"
   ]
  },
  {
   "cell_type": "markdown",
   "metadata": {},
   "source": [
    "H0 is rejected. Therefore non-parametric test should be performed."
   ]
  },
  {
   "cell_type": "markdown",
   "metadata": {},
   "source": [
    "## Variance Homogeneity Assumption\n",
    "+ HO: The variance is homogeneusl across groups\n",
    "+ H1: the variance is not homogeneusl across groups"
   ]
  },
  {
   "cell_type": "code",
   "execution_count": 105,
   "metadata": {},
   "outputs": [
    {
     "data": {
      "text/plain": [
       "LeveneResult(statistic=1.4551871714250426, pvalue=0.23259504796081423)"
      ]
     },
     "execution_count": 105,
     "metadata": {},
     "output_type": "execute_result"
    }
   ],
   "source": [
    "stats.levene(df.control, df.test)"
   ]
  },
  {
   "cell_type": "markdown",
   "metadata": {},
   "source": [
    "Our p value(0.232) greater than .05 indicates that the variance assumption across groups is met."
   ]
  },
  {
   "cell_type": "markdown",
   "metadata": {},
   "source": [
    "## NonParametric "
   ]
  },
  {
   "cell_type": "code",
   "execution_count": 106,
   "metadata": {},
   "outputs": [
    {
     "data": {
      "text/plain": [
       "MannwhitneyuResult(statistic=391.0, pvalue=0.19352350307853528)"
      ]
     },
     "execution_count": 106,
     "metadata": {},
     "output_type": "execute_result"
    }
   ],
   "source": [
    "stats.mannwhitneyu(df[\"control\"], df[\"test\"])"
   ]
  },
  {
   "cell_type": "markdown",
   "metadata": {},
   "source": [
    "0.1935235030 <0.05 # H0 is not rejected. There is no significant difference between avarage bidding and maximum bidding\n"
   ]
  },
  {
   "cell_type": "markdown",
   "metadata": {},
   "source": [
    "##### to Excel for visualization with PowerBI"
   ]
  },
  {
   "cell_type": "code",
   "execution_count": 110,
   "metadata": {},
   "outputs": [],
   "source": [
    "control_grup.to_excel(\"control.xlsx\")\n",
    "test_grup.to_excel(\"test.xlsx\")"
   ]
  }
 ],
 "metadata": {
  "kernelspec": {
   "display_name": "Python 3",
   "language": "python",
   "name": "python3"
  },
  "language_info": {
   "codemirror_mode": {
    "name": "ipython",
    "version": 3
   },
   "file_extension": ".py",
   "mimetype": "text/x-python",
   "name": "python",
   "nbconvert_exporter": "python",
   "pygments_lexer": "ipython3",
   "version": "3.7.4"
  }
 },
 "nbformat": 4,
 "nbformat_minor": 4
}
