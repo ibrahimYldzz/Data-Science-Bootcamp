{
 "cells": [
  {
   "cell_type": "markdown",
   "metadata": {},
   "source": [
    "# Uygulama: 2. Hafta"
   ]
  },
  {
   "cell_type": "markdown",
   "metadata": {},
   "source": [
    "1. En basit hali ile bir fonksiyon tanimlayip fonksiyonu cagiriniz. (Calistiriniz.)"
   ]
  },
  {
   "cell_type": "code",
   "execution_count": 4,
   "metadata": {},
   "outputs": [
    {
     "name": "stdout",
     "output_type": "stream",
     "text": [
      "Hello\n"
     ]
    }
   ],
   "source": [
    "def func1():\n",
    "    print(\"Hello\")\n",
    "func1()"
   ]
  },
  {
   "cell_type": "markdown",
   "metadata": {},
   "source": [
    "2. Tek argumanli (parametreli), return'u olmayan bir fonksiyon tanimlayiniz, fonksiyonu cagiriniz."
   ]
  },
  {
   "cell_type": "code",
   "execution_count": 6,
   "metadata": {},
   "outputs": [
    {
     "name": "stdout",
     "output_type": "stream",
     "text": [
      "İbrahim\n"
     ]
    }
   ],
   "source": [
    "def func2(x):\n",
    "    print x\n",
    "func2(\"İbrahim\")"
   ]
  },
  {
   "cell_type": "markdown",
   "metadata": {},
   "source": [
    "3. Tek argumanli, return'u (geri donutu) olan bir fonksiyon tanimlayiniz, fonksiyonu cagiriniz."
   ]
  },
  {
   "cell_type": "code",
   "execution_count": 10,
   "metadata": {},
   "outputs": [
    {
     "name": "stdout",
     "output_type": "stream",
     "text": [
      "6\n"
     ]
    }
   ],
   "source": [
    "def func3(x):\n",
    "    return x\n",
    "print(func3(6))"
   ]
  },
  {
   "cell_type": "markdown",
   "metadata": {},
   "source": [
    "4. Tek argumanli, return ile geri donutu olan bir fonksiyon tanimlayiniz, fonksiyonu cagiriniz, 'sonuc' adli bir degisken ile geri donutu yakalayiniz (atama ile kaydediniz), 'sonuc' degiskenini yazdiriniz."
   ]
  },
  {
   "cell_type": "code",
   "execution_count": null,
   "metadata": {},
   "outputs": [],
   "source": [
    "def func4(x):\n",
    "    return x\n",
    "sonuc = func4(8)\n",
    "print(sonuc)"
   ]
  },
  {
   "cell_type": "markdown",
   "metadata": {},
   "source": [
    "5. Asagida bir dataframe'in bir degiskeni secilmis tweets_lang adi ile kaydedilmistir. \n",
    "sonuc olarak  {'en': 97, 'et': 1, 'und': 2} seklinde sozluk yapisinda bir ciktisi olan kodlari yaziniz"
   ]
  },
  {
   "cell_type": "code",
   "execution_count": 29,
   "metadata": {},
   "outputs": [
    {
     "name": "stdout",
     "output_type": "stream",
     "text": [
      "en     97\n",
      "und     2\n",
      "et      1\n",
      "Name: lang, dtype: int64\n"
     ]
    }
   ],
   "source": [
    "import pandas as pd \n",
    "tweets_df = pd.read_csv('tweets.csv')\n",
    "tweets_lang = tweets_df['lang']\n",
    "tweets_lang.head()\n",
    "print(tweets_lang.value_counts())"
   ]
  },
  {
   "cell_type": "markdown",
   "metadata": {},
   "source": [
    "6. Yukarida yazmis oldugunuz kodlara fonksiyon giydirerek tekrar ayni sonucu yazdiriniz."
   ]
  },
  {
   "cell_type": "markdown",
   "metadata": {},
   "source": [
    "7. Default argumani olan bir fonksiyon tanimlayiniz, fonksiyonu argumansiz calistiriniz, ayrica argumana farkli bir deger girerek calistiriniz."
   ]
  },
  {
   "cell_type": "code",
   "execution_count": 33,
   "metadata": {},
   "outputs": [
    {
     "name": "stdout",
     "output_type": "stream",
     "text": [
      "10\n",
      "8\n"
     ]
    }
   ],
   "source": [
    "def func7(x,y=5):\n",
    "    return x+y\n",
    "print(func7(5))\n",
    "print(func7(5,3))"
   ]
  },
  {
   "cell_type": "markdown",
   "metadata": {},
   "source": [
    "8. Uc adet argumani olan bir fonksiyon tanimlayiniz, iki tanesinin default degeri olsun. Farkli varyasyonlarda fonksiyonu cagiriniz."
   ]
  },
  {
   "cell_type": "code",
   "execution_count": 34,
   "metadata": {},
   "outputs": [
    {
     "name": "stdout",
     "output_type": "stream",
     "text": [
      "5\n",
      "15\n",
      "30\n"
     ]
    }
   ],
   "source": [
    "def func8(x,y=1,z=1):\n",
    "    return x*y*z\n",
    "print(func8(5))\n",
    "print(func8(5,3))\n",
    "print(func8(5,3,2))"
   ]
  },
  {
   "cell_type": "markdown",
   "metadata": {},
   "source": [
    "9. Sicaklik birimlerinden Celsius'u Kelvine ceviren fonksiyonu yaziniz."
   ]
  },
  {
   "cell_type": "code",
   "execution_count": 36,
   "metadata": {},
   "outputs": [
    {
     "data": {
      "text/plain": [
       "288"
      ]
     },
     "execution_count": 36,
     "metadata": {},
     "output_type": "execute_result"
    }
   ],
   "source": [
    "def func9(x):\n",
    "    return x+273\n",
    "func9(15)"
   ]
  },
  {
   "cell_type": "markdown",
   "metadata": {},
   "source": [
    "10. Input fonksiyonu ile 24h formatinda girilen saat icin asagidaki kurallara gore belirtilen arsilama mesajini yazdiriniz."
   ]
  },
  {
   "cell_type": "markdown",
   "metadata": {},
   "source": [
    "11. Altinci soruda yazdiginiz fonksiyonun argumanini degistirerek ayni sonucu default arguman kullanarak yazdiriniz. Not: kolon_adi='lang' ifadesini kullaniniz."
   ]
  },
  {
   "cell_type": "markdown",
   "metadata": {},
   "source": [
    "12. 'python' ile 'Python' ifadelerinin esit olup olmadigini gosteriniz"
   ]
  },
  {
   "cell_type": "code",
   "execution_count": 37,
   "metadata": {},
   "outputs": [
    {
     "data": {
      "text/plain": [
       "False"
      ]
     },
     "execution_count": 37,
     "metadata": {},
     "output_type": "execute_result"
    }
   ],
   "source": [
    "\"python\"==\"Python\""
   ]
  },
  {
   "cell_type": "markdown",
   "metadata": {},
   "source": [
    "13. Asagidaki degiskenleri kullanarak dersin matematik olup olmadigini kontrol eden, matematik ise \"Matematik sinavi aciklandi\" ifadesi yazdiran, ayrica puanin 65'ten buyuk olup olmadigini kontrol eden ve 65'ten buyuk ise 'Sinavi Gectiniz' ifadesini cikti olarak yazan kodlari yaziniz."
   ]
  },
  {
   "cell_type": "code",
   "execution_count": 38,
   "metadata": {},
   "outputs": [
    {
     "name": "stdout",
     "output_type": "stream",
     "text": [
      "Matematik sinavi aciklandi\n",
      "Sninavi Gectiniz\n"
     ]
    }
   ],
   "source": [
    "ders = \"matematik\"\n",
    "puan = 90\n",
    "if ders==\"matematik\":\n",
    "    print(\"Matematik sinavi aciklandi\")\n",
    "    if puan>65:\n",
    "        print(\"Sninavi Gectiniz\")"
   ]
  },
  {
   "cell_type": "markdown",
   "metadata": {},
   "source": [
    "14. Bir ustteki kodu editleyip tekrar yaziniz: Eger ders 'matematik' degil ise \"Matematik sinavi aciklanmadi\" yazilsin. Ayrica puan'in 65'ten kucuk olmasi halinde \"Sinavdan kaldiniz\" ifadesi yazilsin."
   ]
  },
  {
   "cell_type": "code",
   "execution_count": 40,
   "metadata": {},
   "outputs": [],
   "source": [
    "ders = \"matematik\"\n",
    "puan = 90\n",
    "if ders!=\"matematik\":\n",
    "    print(\"Matematik sinavi aciklanmadi\")\n",
    "    if puan<65:\n",
    "        print(\"Sninavdan kaldiniz\")"
   ]
  },
  {
   "cell_type": "markdown",
   "metadata": {},
   "source": [
    "15. Bir liste olusturunuz ve for ile bu listenin elemanlarini yazdiriniz"
   ]
  },
  {
   "cell_type": "code",
   "execution_count": 42,
   "metadata": {},
   "outputs": [
    {
     "name": "stdout",
     "output_type": "stream",
     "text": [
      "10\n",
      "20\n",
      "30\n",
      "40\n",
      "50\n"
     ]
    }
   ],
   "source": [
    "liste = [10,20,30,40,50]\n",
    "for i in liste:\n",
    "    print(i)"
   ]
  },
  {
   "cell_type": "markdown",
   "metadata": {},
   "source": [
    "16. Bir ustte yapiginiz islemi elemanlari otomatik numaralandirarak tekrar yazdiriniz"
   ]
  },
  {
   "cell_type": "markdown",
   "metadata": {},
   "source": [
    "17. Asagida verilen A listesindeki elemanlari for dongusu kullanarak B listesine tasiyiniz."
   ]
  },
  {
   "cell_type": "code",
   "execution_count": 44,
   "metadata": {},
   "outputs": [
    {
     "name": "stdout",
     "output_type": "stream",
     "text": [
      "[10, 11, 12, 13, 14, 15, 16]\n"
     ]
    }
   ],
   "source": [
    "A = [10,11,12,13,14,15,16]\n",
    "B = []\n",
    "for i in A:\n",
    "    B.append(i)\n",
    "print(B)    "
   ]
  },
  {
   "cell_type": "markdown",
   "metadata": {},
   "source": [
    "18. Asagida verilen A listesindeki cift sayilari for dongusu kullanarak B listesine tasiyiniz."
   ]
  },
  {
   "cell_type": "code",
   "execution_count": 46,
   "metadata": {},
   "outputs": [
    {
     "name": "stdout",
     "output_type": "stream",
     "text": [
      "[10, 12, 14, 16]\n"
     ]
    }
   ],
   "source": [
    "A = [10,11,12,13,14,15,16]\n",
    "B = []\n",
    "for i in A:\n",
    "    if i%2==0:\n",
    "        B.append(i)\n",
    "print(B) "
   ]
  },
  {
   "cell_type": "markdown",
   "metadata": {},
   "source": [
    "19. Asagidaki listeleri kullanarak belirtilen sonucu for dongusu kullanarak yazdiriniz."
   ]
  },
  {
   "cell_type": "code",
   "execution_count": 47,
   "metadata": {},
   "outputs": [
    {
     "name": "stdout",
     "output_type": "stream",
     "text": [
      "yellow apple\n",
      "yellow banana\n",
      "big apple\n",
      "big banana\n",
      "tasty apple\n",
      "tasty banana\n"
     ]
    }
   ],
   "source": [
    "adj = [\"yellow\", \"big\", \"tasty\"]\n",
    "fruits = [\"apple\", \"banana\"]\n",
    "for i in adj:\n",
    "    for j in fruits:\n",
    "        print(i+\" \"+j)"
   ]
  },
  {
   "cell_type": "raw",
   "metadata": {},
   "source": [
    "CIKTI:\n",
    "yellow apple\n",
    "yellow banana\n",
    "big apple\n",
    "big banana\n",
    "tasty apple\n",
    "tasty banana"
   ]
  },
  {
   "cell_type": "markdown",
   "metadata": {},
   "source": [
    "20. Carpim tablosunu for donguleri ile yazdiriniz."
   ]
  },
  {
   "cell_type": "code",
   "execution_count": 50,
   "metadata": {
    "collapsed": true,
    "jupyter": {
     "outputs_hidden": true
    }
   },
   "outputs": [
    {
     "name": "stdout",
     "output_type": "stream",
     "text": [
      "1\n",
      "2\n",
      "3\n",
      "4\n",
      "5\n",
      "6\n",
      "7\n",
      "8\n",
      "9\n",
      "2\n",
      "4\n",
      "6\n",
      "8\n",
      "10\n",
      "12\n",
      "14\n",
      "16\n",
      "18\n",
      "3\n",
      "6\n",
      "9\n",
      "12\n",
      "15\n",
      "18\n",
      "21\n",
      "24\n",
      "27\n",
      "4\n",
      "8\n",
      "12\n",
      "16\n",
      "20\n",
      "24\n",
      "28\n",
      "32\n",
      "36\n",
      "5\n",
      "10\n",
      "15\n",
      "20\n",
      "25\n",
      "30\n",
      "35\n",
      "40\n",
      "45\n",
      "6\n",
      "12\n",
      "18\n",
      "24\n",
      "30\n",
      "36\n",
      "42\n",
      "48\n",
      "54\n",
      "7\n",
      "14\n",
      "21\n",
      "28\n",
      "35\n",
      "42\n",
      "49\n",
      "56\n",
      "63\n",
      "8\n",
      "16\n",
      "24\n",
      "32\n",
      "40\n",
      "48\n",
      "56\n",
      "64\n",
      "72\n",
      "9\n",
      "18\n",
      "27\n",
      "36\n",
      "45\n",
      "54\n",
      "63\n",
      "72\n",
      "81\n"
     ]
    }
   ],
   "source": [
    "for i in range(1,10):\n",
    "    for j in range(1,10):\n",
    "        print(i*j)"
   ]
  },
  {
   "cell_type": "markdown",
   "metadata": {},
   "source": [
    "21. 2000 yilinin subat ayi 29 gun olduguna gore, 2100 yilina kadar subat ayinin 29 gun oldugu yillari for dongusu kullanarak yazdiriniz."
   ]
  },
  {
   "cell_type": "code",
   "execution_count": 55,
   "metadata": {
    "collapsed": true,
    "jupyter": {
     "outputs_hidden": true
    }
   },
   "outputs": [
    {
     "name": "stdout",
     "output_type": "stream",
     "text": [
      "2000\n",
      "2004\n",
      "2008\n",
      "2012\n",
      "2016\n",
      "2020\n",
      "2024\n",
      "2028\n",
      "2032\n",
      "2036\n",
      "2040\n",
      "2044\n",
      "2048\n",
      "2052\n",
      "2056\n",
      "2060\n",
      "2064\n",
      "2068\n",
      "2072\n",
      "2076\n",
      "2080\n",
      "2084\n",
      "2088\n",
      "2092\n",
      "2096\n"
     ]
    }
   ],
   "source": [
    "\n",
    "for i in range(2000,2100,4):\n",
    "    print(i)\n"
   ]
  },
  {
   "cell_type": "markdown",
   "metadata": {},
   "source": [
    "22. 2000 ile 2100 (yillari dahil olmak uzere) arasinda subat ayinin 29 oldugu yillarin sayisini hesaplayiniz."
   ]
  },
  {
   "cell_type": "code",
   "execution_count": 54,
   "metadata": {},
   "outputs": [
    {
     "name": "stdout",
     "output_type": "stream",
     "text": [
      "26\n"
     ]
    }
   ],
   "source": [
    "toplam = 0\n",
    "for i in range(2000,2101,4):\n",
    "    toplam = toplam + 1\n",
    "print(toplam)   "
   ]
  },
  {
   "cell_type": "markdown",
   "metadata": {},
   "source": [
    "23. Basitlestirilmis bir Bowling oyunu icin bir puan hesaplama yapilmasi isteniyor.\n",
    "- atis_yap() adinda bir fonksiyon yaziniz, bu fonksiyon 0'dan 10'a kadar olan sayilardan rasgele birini secsin, ve yazdirsin.\n",
    "- Eger atis_yap() fonksiyonu 10 sayisini tutturursa Ekrana \"Strike!\" yazilsin."
   ]
  },
  {
   "cell_type": "code",
   "execution_count": 72,
   "metadata": {},
   "outputs": [
    {
     "name": "stdout",
     "output_type": "stream",
     "text": [
      "Strike\n"
     ]
    }
   ],
   "source": [
    "import numpy as np\n",
    "def atis_yap():\n",
    "    if np.random.randint(11)==10:\n",
    "        print(\"Strike\")\n",
    "atis_yap()        "
   ]
  },
  {
   "cell_type": "markdown",
   "metadata": {},
   "source": [
    "24. For dongusu kullanarak arguman olarak girilen sayinin faktöriyelini hesaplayan fonksiyonu yaziniz."
   ]
  },
  {
   "cell_type": "code",
   "execution_count": 78,
   "metadata": {},
   "outputs": [
    {
     "data": {
      "text/plain": [
       "6"
      ]
     },
     "execution_count": 78,
     "metadata": {},
     "output_type": "execute_result"
    }
   ],
   "source": [
    "def func24(x):\n",
    "    carpim = 1\n",
    "    if x==0:\n",
    "        return 1\n",
    "    else :\n",
    "        for i in range(1,x+1):\n",
    "            carpim =   i * carpim\n",
    "        return carpim\n",
    "func24(3)   "
   ]
  },
  {
   "cell_type": "markdown",
   "metadata": {},
   "source": [
    "25. Arguman olarak aldigi kelimeyi tersten yazdiran ayrica ilk harfini buyuk, kalani kucuk harfle yazdiran fonksiyonu yaziniz."
   ]
  },
  {
   "cell_type": "code",
   "execution_count": 117,
   "metadata": {},
   "outputs": [
    {
     "name": "stdout",
     "output_type": "stream",
     "text": [
      "Imilib irev\n"
     ]
    }
   ],
   "source": [
    "def func25(x):\n",
    "    x = list(x)\n",
    "    index = int(len(x)/2)\n",
    "    for i in range(index):       \n",
    "        temp = x[i]\n",
    "        x[i] = x[len(x)-1-i]     \n",
    "        x[len(x)-1-i] = temp\n",
    "    ters_x = \"\".join(x)    \n",
    "    ters_x = ters_x.capitalize()\n",
    "    print(ters_x)\n",
    "func25(\"veri bilimi\")"
   ]
  },
  {
   "cell_type": "raw",
   "metadata": {},
   "source": [
    "ORNEK:\n",
    "Armut -> Tumra\n",
    "Kalem -> Melak"
   ]
  }
 ],
 "metadata": {
  "kernelspec": {
   "display_name": "Python 3",
   "language": "python",
   "name": "python3"
  },
  "language_info": {
   "codemirror_mode": {
    "name": "ipython",
    "version": 3
   },
   "file_extension": ".py",
   "mimetype": "text/x-python",
   "name": "python",
   "nbconvert_exporter": "python",
   "pygments_lexer": "ipython3",
   "version": "3.7.4"
  }
 },
 "nbformat": 4,
 "nbformat_minor": 4
}
